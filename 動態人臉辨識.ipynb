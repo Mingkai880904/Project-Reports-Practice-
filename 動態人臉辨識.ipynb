{
 "cells": [
  {
   "cell_type": "code",
   "execution_count": null,
   "metadata": {},
   "outputs": [],
   "source": [
    "import cv2\n",
    "\n",
    "face_cascade = cv2.CascadeClassifier('haarcascade_frontalface_default.xml')\n",
    "face_cascade.load(r\"D:\\haarcascade_frontalface_default.xml\")\n",
    "\n",
    "cap = cv2.VideoCapture(0)\n",
    "while True:\n",
    "  _,img = cap.read()\n",
    "  gray = cv2.cvtColor(img, cv2.COLOR_BGR2GRAY)\n",
    "  faces = face_cascade.detectMultiScale(gray, 1.1, 4)\n",
    "  for(x, y, w, h) in faces:\n",
    "    cv2.rectangle(img, (x, y), (x+w, y+h),(0, 255, 0), 2)\n",
    "  cv2.namedWindow('img', cv2.WINDOW_NORMAL)\n",
    "  cv2.imshow('img',img)\n",
    "  if cv2.waitKey(30)== ord('q'):\n",
    "    break\n",
    "cap.release()\n",
    "cv2.destroyAllWindows()      \n",
    "\n",
    "\n"
   ]
  },
  {
   "cell_type": "code",
   "execution_count": null,
   "metadata": {},
   "outputs": [],
   "source": []
  }
 ],
 "metadata": {
  "kernelspec": {
   "display_name": "Python 3",
   "language": "python",
   "name": "python3"
  },
  "language_info": {
   "codemirror_mode": {
    "name": "ipython",
    "version": 3
   },
   "file_extension": ".py",
   "mimetype": "text/x-python",
   "name": "python",
   "nbconvert_exporter": "python",
   "pygments_lexer": "ipython3",
   "version": "3.5.5"
  }
 },
 "nbformat": 4,
 "nbformat_minor": 2
}
